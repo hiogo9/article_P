{
 "cells": [
  {
   "cell_type": "code",
   "execution_count": 1,
   "metadata": {},
   "outputs": [],
   "source": [
    "from yfiles_jupyter_graphs import GraphWidget\n",
    "w = GraphWidget()\n",
    "w.nodes = [\n",
    "    {\"id\": 0, \"properties\": {\"firstName\": \"Alpha\", \"label\": \"Person A\"}},\n",
    "    {\"id\": \"one\", \"properties\": {\"firstName\": \"Bravo\", \"label\": \"Person B\"}},\n",
    "    {\"id\": 2.0, \"properties\": {\"firstName\": \"Charlie\", \"label\": \"Person C\", \"has_hat\": False}},\n",
    "    {\"id\": True, \"properties\": {\"firstName\": \"Delta\", \"label\": \"Person D\", \"likes_pizza\": True}}\n",
    "]\n",
    "w.edges = [\n",
    "    {\"id\": \"zero\", \"start\": 0, \"end\": \"one\", \"properties\": {\"since\": \"1992\", \"label\": \"knows\"}},\n",
    "    {\"id\": 1, \"start\": \"one\", \"end\": True, \"properties\": {\"label\": \"knows\", \"since\": \"1992\"}},\n",
    "    {\"id\": 2.0, \"start\": 2.0, \"end\": True, \"properties\": {\"label\": \"knows\", \"since\": \"1992\"}},\n",
    "    {\"id\": False, \"start\": 0, \"end\": 2.0, \"properties\": {\"label\": \"knows\", \"since\": 234}}\n",
    "]\n",
    "w.directed = True\n"
   ]
  },
  {
   "cell_type": "code",
   "execution_count": null,
   "metadata": {},
   "outputs": [],
   "source": [
    "\n",
    "display(w)"
   ]
  },
  {
   "cell_type": "code",
   "execution_count": 1,
   "metadata": {},
   "outputs": [
    {
     "data": {
      "application/javascript": "require.config({\n    paths: {\n        d3: 'https://d3js.org/d3.v5.min'\n    }\n});\n\n",
      "text/plain": [
       "<IPython.core.display.Javascript object>"
      ]
     },
     "metadata": {},
     "output_type": "display_data"
    }
   ],
   "source": [
    "\n",
    "\n",
    "%%javascript\n",
    "require.config({\n",
    "    paths: {\n",
    "        d3: 'https://d3js.org/d3.v5.min'\n",
    "    }\n",
    "});\n",
    "\n"
   ]
  },
  {
   "cell_type": "code",
   "execution_count": 2,
   "metadata": {},
   "outputs": [
    {
     "data": {
      "application/javascript": "(function(element) {\n    require(['d3'], function(d3) {   \n        var data = [1, 2, 4, 8, 16, 8, 4, 2, 1]\n\n        var svg = d3.select(element.get(0)).append('svg')\n            .attr('width', 400)\n            .attr('height', 200);\n        svg.selectAll('circle')\n            .data(data)\n            .enter()\n            .append('circle')\n            .attr(\"cx\", function(d, i) {return 40 * (i + 1);})\n            .attr(\"cy\", function(d, i) {return 100 + 30 * (i % 3 - 1);})\n            .style(\"fill\", \"#1570a4\")\n            .transition().duration(2000)\n            .attr(\"r\", function(d) {return 2*d;})\n        ;\n    })\n})(element);\n",
      "text/plain": [
       "<IPython.core.display.Javascript object>"
      ]
     },
     "metadata": {},
     "output_type": "display_data"
    }
   ],
   "source": [
    "%%javascript\n",
    "(function(element) {\n",
    "    require(['d3'], function(d3) {   \n",
    "        var data = [1, 2, 4, 8, 16, 8, 4, 2, 1]\n",
    "\n",
    "        var svg = d3.select(element.get(0)).append('svg')\n",
    "            .attr('width', 400)\n",
    "            .attr('height', 200);\n",
    "        svg.selectAll('circle')\n",
    "            .data(data)\n",
    "            .enter()\n",
    "            .append('circle')\n",
    "            .attr(\"cx\", function(d, i) {return 40 * (i + 1);})\n",
    "            .attr(\"cy\", function(d, i) {return 100 + 30 * (i % 3 - 1);})\n",
    "            .style(\"fill\", \"#1570a4\")\n",
    "            .transition().duration(2000)\n",
    "            .attr(\"r\", function(d) {return 2*d;})\n",
    "        ;\n",
    "    })\n",
    "})(element);"
   ]
  },
  {
   "cell_type": "code",
   "execution_count": 1,
   "metadata": {},
   "outputs": [
    {
     "data": {
      "text/html": [
       "\n",
       "        <iframe\n",
       "            width=\"100%\"\n",
       "            height=\"650\"\n",
       "            src=\"http://127.0.0.1:8050/\"\n",
       "            frameborder=\"0\"\n",
       "            allowfullscreen\n",
       "            \n",
       "        ></iframe>\n",
       "        "
      ],
      "text/plain": [
       "<IPython.lib.display.IFrame at 0x1f4b6daf050>"
      ]
     },
     "metadata": {},
     "output_type": "display_data"
    }
   ],
   "source": [
    "import dash\n",
    "import dash_cytoscape as cyto\n",
    "from dash import html\n",
    "\n",
    "app = dash.Dash(__name__)\n",
    "app.layout = html.Div([\n",
    "    cyto.Cytoscape(\n",
    "        id='cytoscape',\n",
    "        elements=[\n",
    "            {'data': {'id': 'one', 'label': 'Node 1'}, 'position': {'x': 50, 'y': 50}},\n",
    "            {'data': {'id': 'two', 'label': 'Node 2'}, 'position': {'x': 200, 'y': 200}},\n",
    "            {'data': {'source': 'one', 'target': 'two','label': 'Node 1 to 2'}}\n",
    "        ],\n",
    "        layout={'name': 'preset'}\n",
    "    )\n",
    "])\n",
    "\n",
    "if __name__ == '__main__':\n",
    "    app.run_server(debug=True)"
   ]
  }
 ],
 "metadata": {
  "kernelspec": {
   "display_name": "article_1",
   "language": "python",
   "name": "python3"
  },
  "language_info": {
   "codemirror_mode": {
    "name": "ipython",
    "version": 3
   },
   "file_extension": ".py",
   "mimetype": "text/x-python",
   "name": "python",
   "nbconvert_exporter": "python",
   "pygments_lexer": "ipython3",
   "version": "3.11.7"
  }
 },
 "nbformat": 4,
 "nbformat_minor": 2
}
