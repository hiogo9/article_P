{
 "cells": [
  {
   "cell_type": "code",
   "execution_count": 12,
   "metadata": {},
   "outputs": [],
   "source": [
    "from igraph import Graph\n",
    "import igraph as ig"
   ]
  },
  {
   "cell_type": "code",
   "execution_count": 13,
   "metadata": {},
   "outputs": [],
   "source": [
    "g = Graph(n=10, edges=[[0, 1], [2, 3]])"
   ]
  },
  {
   "cell_type": "code",
   "execution_count": 14,
   "metadata": {},
   "outputs": [],
   "source": [
    "from typing import Dict\n",
    "from igraph import Graph\n",
    "from yfiles_jupyter_graphs import GraphWidget\n"
   ]
  },
  {
   "cell_type": "code",
   "execution_count": 15,
   "metadata": {},
   "outputs": [],
   "source": [
    "g = Graph()\n",
    "g.add_vertices(3)\n",
    "g.add_edges([(0,1), (1,2)])\n",
    "g.add_edges([(2, 0)])\n",
    "g.add_vertices(3)\n",
    "g.add_edges([(2, 3), (3, 4), (4, 5), (5, 3)])\n"
   ]
  },
  {
   "cell_type": "code",
   "execution_count": 7,
   "metadata": {},
   "outputs": [],
   "source": [
    "f = Graph([(0,1), (0,2), (2,3), (3,4), (4,2), (2,5), (5,0), (6,3), (5,6)])\n",
    "f.vs[\"name\"] = [\"Alice\", \"Bob\", \"Claire\", \"Dennis\", \"Esther\", \"Frank\", \"George\"]\n",
    "f.vs[\"age\"] = [25, 31, 18, 47, 22, 23, 50]\n",
    "f.vs[\"gender\"] = [\"f\", \"m\", \"f\", \"m\", \"f\", \"m\", \"m\"]\n",
    "f.es[\"is_formal\"] = [False, False, True, True, True, False, True, False, False]\n"
   ]
  },
  {
   "cell_type": "code",
   "execution_count": 16,
   "metadata": {},
   "outputs": [
    {
     "data": {
      "application/vnd.jupyter.widget-view+json": {
       "model_id": "b29b427bfa8248b0ae346ca94b070940",
       "version_major": 2,
       "version_minor": 0
      },
      "text/plain": [
       "GraphWidget(layout=Layout(height='500px', width='100%'))"
      ]
     },
     "metadata": {},
     "output_type": "display_data"
    }
   ],
   "source": [
    "g = Graph(\n",
    "\n",
    "    n=4, edges=[[0, 1], [2, 3]],\n",
    "\n",
    "    edge_attrs={'weight': [0.1, 0.2]},\n",
    "\n",
    "    vertex_attrs={'color': ['b', 'g', 'g', 'y']}\n",
    "\n",
    ")\n",
    "w = GraphWidget(graph=g)\n",
    "display(w)"
   ]
  },
  {
   "cell_type": "code",
   "execution_count": null,
   "metadata": {},
   "outputs": [],
   "source": [
    "g = Graph.Full(n=50)\n",
    "w = GraphWidget(graph=g)\n",
    "display(w)"
   ]
  },
  {
   "cell_type": "code",
   "execution_count": 7,
   "metadata": {},
   "outputs": [
    {
     "data": {
      "application/vnd.jupyter.widget-view+json": {
       "model_id": "4979fd827e0c43b5a421a5f8ba370f94",
       "version_major": 2,
       "version_minor": 0
      },
      "text/plain": [
       "GraphWidget(layout=Layout(height='500px', width='100%'))"
      ]
     },
     "metadata": {},
     "output_type": "display_data"
    }
   ],
   "source": [
    "g = Graph.Barabasi(10)\n",
    "w = GraphWidget(graph=g)\n",
    "display(w)"
   ]
  },
  {
   "cell_type": "code",
   "execution_count": 21,
   "metadata": {},
   "outputs": [
    {
     "ename": "AttributeError",
     "evalue": "Plotting not available; please install pycairo or cairocffi",
     "output_type": "error",
     "traceback": [
      "\u001b[1;31m---------------------------------------------------------------------------\u001b[0m",
      "\u001b[1;31mAttributeError\u001b[0m                            Traceback (most recent call last)",
      "Cell \u001b[1;32mIn[21], line 4\u001b[0m\n\u001b[0;32m      1\u001b[0m g \u001b[38;5;241m=\u001b[39m ig\u001b[38;5;241m.\u001b[39mGraph(n\u001b[38;5;241m=\u001b[39m\u001b[38;5;241m10\u001b[39m, edges\u001b[38;5;241m=\u001b[39m[[\u001b[38;5;241m0\u001b[39m, \u001b[38;5;241m1\u001b[39m], [\u001b[38;5;241m0\u001b[39m, \u001b[38;5;241m5\u001b[39m]])\n\u001b[0;32m      2\u001b[0m layout \u001b[38;5;241m=\u001b[39m g\u001b[38;5;241m.\u001b[39mlayout(\u001b[38;5;124m\"\u001b[39m\u001b[38;5;124mkk\u001b[39m\u001b[38;5;124m\"\u001b[39m)\n\u001b[1;32m----> 4\u001b[0m \u001b[43mig\u001b[49m\u001b[38;5;241;43m.\u001b[39;49m\u001b[43mplot\u001b[49m\u001b[43m(\u001b[49m\u001b[43mg\u001b[49m\u001b[43m,\u001b[49m\u001b[43m \u001b[49m\u001b[43mlayout\u001b[49m\u001b[38;5;241;43m=\u001b[39;49m\u001b[43mlayout\u001b[49m\u001b[43m)\u001b[49m\n",
      "File \u001b[1;32mc:\\Users\\sakat\\miniconda3\\envs\\article_1\\Lib\\site-packages\\igraph\\drawing\\__init__.py:299\u001b[0m, in \u001b[0;36mplot\u001b[1;34m(obj, target, bbox, *args, **kwds)\u001b[0m\n\u001b[0;32m    297\u001b[0m background \u001b[38;5;241m=\u001b[39m kwds\u001b[38;5;241m.\u001b[39mpop(\u001b[38;5;124m\"\u001b[39m\u001b[38;5;124mbackground\u001b[39m\u001b[38;5;124m\"\u001b[39m, \u001b[38;5;124m\"\u001b[39m\u001b[38;5;124mwhite\u001b[39m\u001b[38;5;124m\"\u001b[39m)\n\u001b[0;32m    298\u001b[0m margin \u001b[38;5;241m=\u001b[39m \u001b[38;5;28mfloat\u001b[39m(kwds\u001b[38;5;241m.\u001b[39mpop(\u001b[38;5;124m\"\u001b[39m\u001b[38;5;124mmargin\u001b[39m\u001b[38;5;124m\"\u001b[39m, \u001b[38;5;241m20\u001b[39m))\n\u001b[1;32m--> 299\u001b[0m result \u001b[38;5;241m=\u001b[39m \u001b[43mCairoPlot\u001b[49m\u001b[43m(\u001b[49m\n\u001b[0;32m    300\u001b[0m \u001b[43m    \u001b[49m\u001b[43mtarget\u001b[49m\u001b[38;5;241;43m=\u001b[39;49m\u001b[43mtarget\u001b[49m\u001b[43m,\u001b[49m\n\u001b[0;32m    301\u001b[0m \u001b[43m    \u001b[49m\u001b[43mbbox\u001b[49m\u001b[38;5;241;43m=\u001b[39;49m\u001b[43mbbox\u001b[49m\u001b[43m,\u001b[49m\n\u001b[0;32m    302\u001b[0m \u001b[43m    \u001b[49m\u001b[43mpalette\u001b[49m\u001b[38;5;241;43m=\u001b[39;49m\u001b[43mpalette\u001b[49m\u001b[43m,\u001b[49m\n\u001b[0;32m    303\u001b[0m \u001b[43m    \u001b[49m\u001b[43mbackground\u001b[49m\u001b[38;5;241;43m=\u001b[39;49m\u001b[43mbackground\u001b[49m\u001b[43m,\u001b[49m\n\u001b[0;32m    304\u001b[0m \u001b[43m\u001b[49m\u001b[43m)\u001b[49m\n\u001b[0;32m    305\u001b[0m item_bbox \u001b[38;5;241m=\u001b[39m result\u001b[38;5;241m.\u001b[39mbbox\u001b[38;5;241m.\u001b[39mcontract(margin)\n\u001b[0;32m    306\u001b[0m result\u001b[38;5;241m.\u001b[39madd(obj, item_bbox, \u001b[38;5;241m*\u001b[39margs, \u001b[38;5;241m*\u001b[39m\u001b[38;5;241m*\u001b[39mkwds)\n",
      "File \u001b[1;32mc:\\Users\\sakat\\miniconda3\\envs\\article_1\\Lib\\site-packages\\igraph\\drawing\\cairo\\plot.py:148\u001b[0m, in \u001b[0;36mCairoPlot.__init__\u001b[1;34m(self, target, bbox, palette, background)\u001b[0m\n\u001b[0;32m    146\u001b[0m \u001b[38;5;28;01mif\u001b[39;00m target \u001b[38;5;129;01mis\u001b[39;00m \u001b[38;5;28;01mNone\u001b[39;00m:\n\u001b[0;32m    147\u001b[0m     \u001b[38;5;28mself\u001b[39m\u001b[38;5;241m.\u001b[39m_need_tmpfile \u001b[38;5;241m=\u001b[39m \u001b[38;5;28;01mTrue\u001b[39;00m\n\u001b[1;32m--> 148\u001b[0m     \u001b[38;5;28mself\u001b[39m\u001b[38;5;241m.\u001b[39m_surface \u001b[38;5;241m=\u001b[39m \u001b[43mcairo\u001b[49m\u001b[38;5;241;43m.\u001b[39;49m\u001b[43mImageSurface\u001b[49m(\n\u001b[0;32m    149\u001b[0m         cairo\u001b[38;5;241m.\u001b[39mFORMAT_ARGB32, \u001b[38;5;28mint\u001b[39m(\u001b[38;5;28mself\u001b[39m\u001b[38;5;241m.\u001b[39mbbox\u001b[38;5;241m.\u001b[39mwidth), \u001b[38;5;28mint\u001b[39m(\u001b[38;5;28mself\u001b[39m\u001b[38;5;241m.\u001b[39mbbox\u001b[38;5;241m.\u001b[39mheight)\n\u001b[0;32m    150\u001b[0m     )\n\u001b[0;32m    151\u001b[0m \u001b[38;5;28;01melif\u001b[39;00m \u001b[38;5;28misinstance\u001b[39m(target, cairo\u001b[38;5;241m.\u001b[39mSurface):\n\u001b[0;32m    152\u001b[0m     \u001b[38;5;28mself\u001b[39m\u001b[38;5;241m.\u001b[39m_surface \u001b[38;5;241m=\u001b[39m target\n",
      "File \u001b[1;32mc:\\Users\\sakat\\miniconda3\\envs\\article_1\\Lib\\site-packages\\igraph\\drawing\\utils.py:428\u001b[0m, in \u001b[0;36mFakeModule.__getattr__\u001b[1;34m(self, _)\u001b[0m\n\u001b[0;32m    427\u001b[0m \u001b[38;5;28;01mdef\u001b[39;00m \u001b[38;5;21m__getattr__\u001b[39m(\u001b[38;5;28mself\u001b[39m, _):\n\u001b[1;32m--> 428\u001b[0m     \u001b[38;5;28;01mraise\u001b[39;00m \u001b[38;5;167;01mAttributeError\u001b[39;00m(\u001b[38;5;28mself\u001b[39m\u001b[38;5;241m.\u001b[39m_message)\n",
      "\u001b[1;31mAttributeError\u001b[0m: Plotting not available; please install pycairo or cairocffi"
     ]
    }
   ],
   "source": [
    "g = ig.Graph(n=10, edges=[[0, 1], [0, 5]])\n",
    "layout = g.layout(\"kk\")\n",
    "\n",
    "ig.plot(g, layout=layout)"
   ]
  }
 ],
 "metadata": {
  "kernelspec": {
   "display_name": "article_1",
   "language": "python",
   "name": "python3"
  },
  "language_info": {
   "codemirror_mode": {
    "name": "ipython",
    "version": 3
   },
   "file_extension": ".py",
   "mimetype": "text/x-python",
   "name": "python",
   "nbconvert_exporter": "python",
   "pygments_lexer": "ipython3",
   "version": "3.11.7"
  }
 },
 "nbformat": 4,
 "nbformat_minor": 2
}
