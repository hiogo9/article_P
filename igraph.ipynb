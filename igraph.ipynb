{
 "cells": [
  {
   "cell_type": "code",
   "execution_count": 11,
   "metadata": {},
   "outputs": [],
   "source": [
    "from igraph import Graph\n",
    "import igraph as ig\n",
    "from typing import Dict\n",
    "from igraph import Graph\n",
    "from yfiles_jupyter_graphs import GraphWidget"
   ]
  },
  {
   "cell_type": "code",
   "execution_count": 13,
   "metadata": {},
   "outputs": [],
   "source": [
    "g = Graph(n=10, edges=[[0, 1], [2, 3]])"
   ]
  },
  {
   "cell_type": "code",
   "execution_count": 15,
   "metadata": {},
   "outputs": [],
   "source": [
    "g = Graph()\n",
    "g.add_vertices(3)\n",
    "g.add_edges([(0,1), (1,2)])\n",
    "g.add_edges([(2, 0)])\n",
    "g.add_vertices(3)\n",
    "g.add_edges([(2, 3), (3, 4), (4, 5), (5, 3)])\n"
   ]
  },
  {
   "cell_type": "code",
   "execution_count": 7,
   "metadata": {},
   "outputs": [],
   "source": [
    "f = Graph([(0,1), (0,2), (2,3), (3,4), (4,2), (2,5), (5,0), (6,3), (5,6)])\n",
    "f.vs[\"name\"] = [\"Alice\", \"Bob\", \"Claire\", \"Dennis\", \"Esther\", \"Frank\", \"George\"]\n",
    "f.vs[\"age\"] = [25, 31, 18, 47, 22, 23, 50]\n",
    "f.vs[\"gender\"] = [\"f\", \"m\", \"f\", \"m\", \"f\", \"m\", \"m\"]\n",
    "f.es[\"is_formal\"] = [False, False, True, True, True, False, True, False, False]\n"
   ]
  },
  {
   "cell_type": "code",
   "execution_count": null,
   "metadata": {},
   "outputs": [],
   "source": [
    "g.layout_kamada_kawai()\n",
    "\n",
    "ig.plot(g,\n",
    "\n",
    "        vertex_size=20,\n",
    "\n",
    "        vertex_color=['blue', 'red', 'green', 'yellow'],\n",
    "\n",
    "        vertex_label=['first', 'second', 'third', 'fourth'],\n",
    "\n",
    "        edge_width=[1, 4],\n",
    "\n",
    "        edge_color=['black', 'grey'],\n",
    "\n",
    "        )"
   ]
  },
  {
   "cell_type": "code",
   "execution_count": null,
   "metadata": {},
   "outputs": [],
   "source": [
    "g = Graph(\n",
    "\n",
    "    n=4, edges=[[0, 1], [2, 3]],\n",
    "\n",
    "    edge_attrs={'weight': [0.1, 0.2]},\n",
    "\n",
    "    vertex_attrs={'color': ['b', 'g', 'g', 'y']}\n",
    "\n",
    ")\n",
    "w = GraphWidget(graph=g)\n",
    "display(w)"
   ]
  },
  {
   "cell_type": "code",
   "execution_count": null,
   "metadata": {},
   "outputs": [],
   "source": [
    "g = Graph.Full(n=150)\n",
    "layout = g.layout(\"kk\")\n",
    "ig.plot(g, layout=layout,vertex_size=10,edge_width=0.5, )"
   ]
  },
  {
   "cell_type": "code",
   "execution_count": null,
   "metadata": {},
   "outputs": [],
   "source": [
    "g = Graph.Barabasi(150)\n",
    "layout = g.layout(\"fruchterman_reingold\")\n",
    "ig.plot(g, layout=layout, bbox=(0, 0, 1000, 1000))"
   ]
  },
  {
   "cell_type": "code",
   "execution_count": 57,
   "metadata": {},
   "outputs": [],
   "source": [
    "\n",
    "import random\n",
    "import matplotlib.pyplot as plt\n",
    "\n",
    "sequence = []\n",
    "for i in range(0,1000):\n",
    "    sequence.append(round(random.paretovariate(1.5)))\n",
    "\n",
    " # display histogram\n",
    "plt.hist(sequence)\n",
    "plt.show()"
   ]
  },
  {
   "cell_type": "code",
   "execution_count": null,
   "metadata": {},
   "outputs": [],
   "source": [
    "g = Graph.Degree_Sequence(out=sequence,method='vl')\n",
    "layout = g.layout(\"kk\")\n",
    "ig.plot(g, layout=layout, bbox=(0, 0, 500, 500))"
   ]
  },
  {
   "cell_type": "code",
   "execution_count": 37,
   "metadata": {},
   "outputs": [],
   "source": [
    "def getComsographFile(graph, filename):\n",
    "    edges = graph.get_edgelist() \n",
    "    with open(filename, \"w\") as txt_file:\n",
    "        txt_file.write(\"source;targer\")\n",
    "        txt_file.write(\"\\n\")\n",
    "        for i in edges:\n",
    "\n",
    "            line = str(i[0])+\";\"+str(i[1])\n",
    "            txt_file.write(line)\n",
    "            txt_file.write(\"\\n\")\n",
    "\n",
    "\n"
   ]
  },
  {
   "cell_type": "code",
   "execution_count": null,
   "metadata": {},
   "outputs": [],
   "source": [
    "g = ig.Graph.Erdos_Renyi(1000,0.001)\n",
    "getComsographFile(g,\"output_sample.csv\")        \n",
    "layout = g.layout_fruchterman_reingold()\n",
    "ig.plot(g, layout=layout, bbox=(0, 0, 700, 700))"
   ]
  },
  {
   "cell_type": "code",
   "execution_count": 41,
   "metadata": {},
   "outputs": [
    {
     "name": "stdout",
     "output_type": "stream",
     "text": [
      "[(1, 2), (1, 3), (1, 4), (1, 5), (1, 6), (1, 7), (2, 3), (2, 4), (2, 5), (2, 6), (2, 7), (3, 4), (3, 5), (3, 6), (3, 7), (4, 5), (4, 6), (4, 7), (5, 6), (5, 7), (6, 7), (8, 9), (8, 10), (8, 11), (8, 12), (8, 13), (8, 14), (8, 15), (8, 16), (8, 17), (8, 18), (9, 10), (9, 11), (9, 12), (9, 13), (9, 14), (9, 15), (9, 16), (9, 17), (9, 18), (10, 11), (10, 12), (10, 13), (10, 14), (10, 15), (10, 16), (10, 17), (10, 18), (11, 12), (11, 13), (11, 14), (11, 15), (11, 16), (11, 17), (11, 18), (12, 13), (12, 14), (12, 15), (12, 16), (12, 17), (12, 18), (13, 14), (13, 15), (13, 16), (13, 17), (13, 18), (14, 15), (14, 16), (14, 17), (14, 18), (15, 16), (15, 17), (15, 18), (16, 17), (16, 18), (17, 18), (19, 20), (19, 21), (19, 22), (19, 23), (19, 24), (19, 25), (19, 26), (20, 21), (20, 22), (20, 23), (20, 24), (20, 25), (20, 26), (21, 22), (21, 23), (21, 24), (21, 25), (21, 26), (22, 23), (22, 24), (22, 25), (22, 26), (23, 24), (23, 25)]\n",
      "[(1, 2), (1, 3), (1, 4), (1, 5), (1, 6), (1, 7), (2, 3), (2, 4), (2, 5), (2, 6)]\n"
     ]
    }
   ],
   "source": [
    "import csv\n",
    "from itertools import combinations\n",
    "\n",
    "def all_pairs(lst):\n",
    "    pairs = list(combinations(lst,2))\n",
    "    return pairs\n",
    "\n",
    "\n",
    "\n",
    "\n",
    "array_bioinform = []\n",
    "with open(\"export_neo4j_bioinformatic_numbers.csv\", newline='') as csv_file:\n",
    "    reader = csv.reader(csv_file, delimiter='|')\n",
    "    for row in reader:\n",
    "        ints_ids = [int(i) for i in row if i !='']\n",
    "        array_bioinform.extend(all_pairs(ints_ids))\n",
    "\n",
    "print(array_bioinform[0:100])\n",
    "\n",
    "g_bioinformatics = Graph(array_bioinform)\n",
    "# print(g_bioinformatics)\n",
    "print(g_bioinformatics.get_edgelist()[0:10])"
   ]
  },
  {
   "cell_type": "code",
   "execution_count": 42,
   "metadata": {},
   "outputs": [],
   "source": [
    "getComsographFile(g_bioinformatics,\"output_bioinform_sample.csv\") "
   ]
  },
  {
   "cell_type": "code",
   "execution_count": null,
   "metadata": {},
   "outputs": [],
   "source": [
    "layout = g_bioinformatics.layout_fruchterman_reingold()\n",
    "ig.plot(g_bioinformatics, layout=layout, bbox=(0, 0, 700, 700))\n",
    "\n",
    "\n",
    "\n",
    "\n",
    "\n",
    "\n",
    "\n",
    "\n"
   ]
  }
 ],
 "metadata": {
  "kernelspec": {
   "display_name": "article_1",
   "language": "python",
   "name": "python3"
  },
  "language_info": {
   "codemirror_mode": {
    "name": "ipython",
    "version": 3
   },
   "file_extension": ".py",
   "mimetype": "text/x-python",
   "name": "python",
   "nbconvert_exporter": "python",
   "pygments_lexer": "ipython3",
   "version": "3.11.7"
  }
 },
 "nbformat": 4,
 "nbformat_minor": 2
}
